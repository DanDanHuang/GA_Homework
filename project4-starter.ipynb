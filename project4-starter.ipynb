{
 "cells": [
  {
   "cell_type": "markdown",
   "metadata": {},
   "source": [
    "# Project 4\n",
    "\n",
    "In this project, you will summarize and present your analysis from Projects 1-3."
   ]
  },
  {
   "cell_type": "markdown",
   "metadata": {},
   "source": [
    "### Intro: Write a problem Statement/ Specific Aim for this project"
   ]
  },
  {
   "cell_type": "markdown",
   "metadata": {},
   "source": [
    "Answer:   \n",
    "To determine how variables, such as GRE (Graduate Record Exam scores), GPA (grade point average) and prestige of the undergraduate institution, effect admission into graduate school, using an admissions data set provided by UCLA."
   ]
  },
  {
   "cell_type": "markdown",
   "metadata": {},
   "source": [
    "### Dataset:  Write up a description of your data and any cleaning that was completed"
   ]
  },
  {
   "cell_type": "markdown",
   "metadata": {},
   "source": [
    "Answer:   \n",
    "There were 400 records in the data set with a total of 3 records with missing values for GPA, GRE and Prestige that were dropped from this analysis. The final analytic sample was 397. This dataset was provided by UCLA (https://stats.idre.ucla.edu/stat/data/binary.csv).\n",
    "  \n",
    "Both GPA and GRE are continuous variable from from 2.26 to 4.0 and 220 to 800.  \n",
    "Prestige takes on the values 1 through 4, with a rank of 1 have the highest prestige, while those with a rank of 4 have the lowest.  \n",
    "Admit is whether or not the candidate was admitted, 1 is admitted and 0 is not admitted.\n",
    "\n"
   ]
  },
  {
   "cell_type": "markdown",
   "metadata": {
    "collapsed": true
   },
   "source": [
    "### Demo: Provide a table that explains the data by admission status"
   ]
  },
  {
   "cell_type": "markdown",
   "metadata": {},
   "source": [
    "Mean (STD) or counts by admission status for each variable \n",
    "\n",
    "| Not Admitted | Admitted\n",
    "---| ---|---\n",
    "GPA | 3.35 (0.38)  | 3.49 (0.37)\n",
    "GRE |573.58  (116.05) | 618.57 (109.26)\n",
    "Prestige 1 | 28 (46%) | 33 (54%)\n",
    "Prestige 2 | 95 (64%) | 53 (36%)\n",
    "Prestige 3 |93 (77%) | 28 (23%)\n",
    "Prestige 4 |55 (82%) | 12 (18%)"
   ]
  },
  {
   "cell_type": "markdown",
   "metadata": {},
   "source": [
    "### Methods: Write up the methods used in your analysis"
   ]
  },
  {
   "cell_type": "markdown",
   "metadata": {},
   "source": [
    "Answer:   \n",
    "We use a Logistic Regression model to calculate the probability of a candidate being admitted based on their GPA, GRE, and Prestige values."
   ]
  },
  {
   "cell_type": "markdown",
   "metadata": {},
   "source": [
    "### Results: Write up your results"
   ]
  },
  {
   "cell_type": "markdown",
   "metadata": {},
   "source": [
    "Answer:   \n",
    "Students from Prestige 1 university was 3 times as likely to be admitted as a candidate from a Prestige 2, 3, or 4 university compared to students from non prestige 1.\n"
   ]
  },
  {
   "cell_type": "markdown",
   "metadata": {},
   "source": [
    "### Visuals: Provide a table or visualization of these results"
   ]
  },
  {
   "cell_type": "markdown",
   "metadata": {},
   "source": [
    "![alt text](https://raw.githubusercontent.com/ga-students/DS_HK_14/master/projects/unit-projects/project-4/assets/images/figure1.jpg)"
   ]
  },
  {
   "cell_type": "markdown",
   "metadata": {},
   "source": [
    "![alt text](https://raw.githubusercontent.com/ga-students/DS_HK_14/master/projects/unit-projects/project-4/assets/images/figure1.jpg)"
   ]
  },
  {
   "cell_type": "markdown",
   "metadata": {},
   "source": [
    "### Discussion: Write up your discussion and future steps"
   ]
  },
  {
   "cell_type": "markdown",
   "metadata": {},
   "source": [
    "Answer:   \n",
    "Our findings indicate that students have a higher probability of admittance for candidates who attended a Prestige 1 undergraduate institution, even with same GPA and GRE values, Prestige 1 students were approximately 3 times as likely to be admitted as non-Prestige 1 students.\n",
    "  \n",
    "Next step could be using different black box classification algorithms like SVM or RandomForest to compare the result from Logistic Regression."
   ]
  }
 ],
 "metadata": {
  "kernelspec": {
   "display_name": "Python 2",
   "language": "python",
   "name": "python2"
  },
  "language_info": {
   "codemirror_mode": {
    "name": "ipython",
    "version": 2
   },
   "file_extension": ".py",
   "mimetype": "text/x-python",
   "name": "python",
   "nbconvert_exporter": "python",
   "pygments_lexer": "ipython2",
   "version": "2.7.13"
  }
 },
 "nbformat": 4,
 "nbformat_minor": 1
}
