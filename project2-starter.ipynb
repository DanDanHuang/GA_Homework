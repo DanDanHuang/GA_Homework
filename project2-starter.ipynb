{
 "cells": [
  {
   "cell_type": "markdown",
   "metadata": {},
   "source": [
    "# Project 2\n",
    "\n",
    "In this project, you will implement the exploratory analysis plan developed in Project 1. This will lay the groundwork for our our first modeling exercise in Project 3."
   ]
  },
  {
   "cell_type": "markdown",
   "metadata": {},
   "source": [
    "### Step 1: Load the python libraries you will need for this project "
   ]
  },
  {
   "cell_type": "code",
   "execution_count": 1,
   "metadata": {
    "collapsed": true
   },
   "outputs": [],
   "source": [
    "#imports\n",
    "from __future__ import division\n",
    "import pandas as pd\n",
    "import numpy as np\n",
    "import matplotlib.pyplot as plt\n",
    "import statsmodels.api as sm\n",
    "import pylab as pl\n",
    "import numpy as np\n",
    "import seaborn as sns\n",
    "sns.set_style('whitegrid')\n",
    "%matplotlib inline"
   ]
  },
  {
   "cell_type": "markdown",
   "metadata": {},
   "source": [
    "### Step 2: Read in your data set "
   ]
  },
  {
   "cell_type": "code",
   "execution_count": 2,
   "metadata": {
    "collapsed": false
   },
   "outputs": [
    {
     "name": "stdout",
     "output_type": "stream",
     "text": [
      "   admit    gre   gpa  prestige\n",
      "0      0  380.0  3.61       3.0\n",
      "1      1  660.0  3.67       3.0\n",
      "2      1  800.0  4.00       1.0\n",
      "3      1  640.0  3.19       4.0\n",
      "4      0  520.0  2.93       4.0\n"
     ]
    }
   ],
   "source": [
    "#Read in data from source \n",
    "df_raw = pd.read_csv(\"../assets/admissions.csv\")\n",
    "print df_raw.head()"
   ]
  },
  {
   "cell_type": "markdown",
   "metadata": {},
   "source": [
    "\n",
    "## Questions\n",
    "### Question 1. How many observations are in our dataset? \n"
   ]
  },
  {
   "cell_type": "code",
   "execution_count": 3,
   "metadata": {
    "collapsed": false,
    "scrolled": false
   },
   "outputs": [
    {
     "data": {
      "text/plain": [
       "(400, 4)"
      ]
     },
     "execution_count": 3,
     "metadata": {},
     "output_type": "execute_result"
    }
   ],
   "source": [
    "df_raw.shape"
   ]
  },
  {
   "cell_type": "markdown",
   "metadata": {},
   "source": [
    "** Answer: **\n",
    "    There are 400 observations"
   ]
  },
  {
   "cell_type": "markdown",
   "metadata": {},
   "source": [
    "### Question 2. Create a summary table"
   ]
  },
  {
   "cell_type": "code",
   "execution_count": 4,
   "metadata": {
    "collapsed": false
   },
   "outputs": [
    {
     "data": {
      "text/html": [
       "<div>\n",
       "<table border=\"1\" class=\"dataframe\">\n",
       "  <thead>\n",
       "    <tr style=\"text-align: right;\">\n",
       "      <th></th>\n",
       "      <th>admit</th>\n",
       "      <th>gre</th>\n",
       "      <th>gpa</th>\n",
       "      <th>prestige</th>\n",
       "    </tr>\n",
       "  </thead>\n",
       "  <tbody>\n",
       "    <tr>\n",
       "      <th>count</th>\n",
       "      <td>400.000000</td>\n",
       "      <td>398.000000</td>\n",
       "      <td>398.00000</td>\n",
       "      <td>399.000000</td>\n",
       "    </tr>\n",
       "    <tr>\n",
       "      <th>mean</th>\n",
       "      <td>0.317500</td>\n",
       "      <td>588.040201</td>\n",
       "      <td>3.39093</td>\n",
       "      <td>2.486216</td>\n",
       "    </tr>\n",
       "    <tr>\n",
       "      <th>std</th>\n",
       "      <td>0.466087</td>\n",
       "      <td>115.628513</td>\n",
       "      <td>0.38063</td>\n",
       "      <td>0.945333</td>\n",
       "    </tr>\n",
       "    <tr>\n",
       "      <th>min</th>\n",
       "      <td>0.000000</td>\n",
       "      <td>220.000000</td>\n",
       "      <td>2.26000</td>\n",
       "      <td>1.000000</td>\n",
       "    </tr>\n",
       "    <tr>\n",
       "      <th>25%</th>\n",
       "      <td>0.000000</td>\n",
       "      <td>520.000000</td>\n",
       "      <td>3.13000</td>\n",
       "      <td>2.000000</td>\n",
       "    </tr>\n",
       "    <tr>\n",
       "      <th>50%</th>\n",
       "      <td>0.000000</td>\n",
       "      <td>580.000000</td>\n",
       "      <td>3.39500</td>\n",
       "      <td>2.000000</td>\n",
       "    </tr>\n",
       "    <tr>\n",
       "      <th>75%</th>\n",
       "      <td>1.000000</td>\n",
       "      <td>660.000000</td>\n",
       "      <td>3.67000</td>\n",
       "      <td>3.000000</td>\n",
       "    </tr>\n",
       "    <tr>\n",
       "      <th>max</th>\n",
       "      <td>1.000000</td>\n",
       "      <td>800.000000</td>\n",
       "      <td>4.00000</td>\n",
       "      <td>4.000000</td>\n",
       "    </tr>\n",
       "  </tbody>\n",
       "</table>\n",
       "</div>"
      ],
      "text/plain": [
       "            admit         gre        gpa    prestige\n",
       "count  400.000000  398.000000  398.00000  399.000000\n",
       "mean     0.317500  588.040201    3.39093    2.486216\n",
       "std      0.466087  115.628513    0.38063    0.945333\n",
       "min      0.000000  220.000000    2.26000    1.000000\n",
       "25%      0.000000  520.000000    3.13000    2.000000\n",
       "50%      0.000000  580.000000    3.39500    2.000000\n",
       "75%      1.000000  660.000000    3.67000    3.000000\n",
       "max      1.000000  800.000000    4.00000    4.000000"
      ]
     },
     "execution_count": 4,
     "metadata": {},
     "output_type": "execute_result"
    }
   ],
   "source": [
    "#function \n",
    "df_raw.describe()"
   ]
  },
  {
   "cell_type": "markdown",
   "metadata": {},
   "source": [
    "### Question 3. Why would GRE have a larger STD than GPA?"
   ]
  },
  {
   "cell_type": "markdown",
   "metadata": {},
   "source": [
    "** Answer: **  \n",
    "Change the MIN, MAX and MEAN of GPA and GRE to the same scale:\n",
    "\n",
    "|  |MIN|MEAN|MAX|\n",
    "| :---: | :---: | :---: | :---: |\n",
    "| GRE| 27.7| 73.5| 100|\n",
    "| GPA| 56.5| 84.75| 100|\n",
    "\n",
    "The different between MIN to MEAN and MAX to MEAN of GRE is larger than GPA, and therefore GRE shows a wider spread of dataset compare to GPA, as a result STD of GRE is larger than GPA.\n",
    "\n",
    "**teacher ans: the range of GRE is higher than GPA **"
   ]
  },
  {
   "cell_type": "markdown",
   "metadata": {
    "collapsed": true
   },
   "source": [
    "### Question 4. Drop data points with missing data\n"
   ]
  },
  {
   "cell_type": "code",
   "execution_count": 5,
   "metadata": {
    "collapsed": false,
    "scrolled": true
   },
   "outputs": [
    {
     "name": "stdout",
     "output_type": "stream",
     "text": [
      "Before dropping missing data\n",
      "admit       400\n",
      "gre         398\n",
      "gpa         398\n",
      "prestige    399\n",
      "dtype: int64\n",
      "\n",
      "After dropping missing data\n",
      "admit       397\n",
      "gre         397\n",
      "gpa         397\n",
      "prestige    397\n",
      "dtype: int64\n"
     ]
    }
   ],
   "source": [
    "print 'Before dropping missing data'\n",
    "print df_raw.count()\n",
    "df_dropNA = df_raw.dropna()\n",
    "print '\\nAfter dropping missing data'\n",
    "print df_dropNA.count()\n",
    "# we dropped 3 observations"
   ]
  },
  {
   "cell_type": "markdown",
   "metadata": {
    "collapsed": true
   },
   "source": [
    "### Question 5. Confirm that you dropped the correct data. How can you tell? "
   ]
  },
  {
   "cell_type": "code",
   "execution_count": 6,
   "metadata": {
    "collapsed": false
   },
   "outputs": [
    {
     "name": "stdout",
     "output_type": "stream",
     "text": [
      "Empty DataFrame\n",
      "Columns: [admit, gre, gpa, prestige]\n",
      "Index: []\n",
      "Empty DataFrame\n",
      "Columns: [admit, gre, gpa, prestige]\n",
      "Index: []\n",
      "Empty DataFrame\n",
      "Columns: [admit, gre, gpa, prestige]\n",
      "Index: []\n"
     ]
    }
   ],
   "source": [
    "# we can use .isnull() function to check if the dataset still contain missing data\n",
    "print df_dropNA[df_dropNA['gre'].isnull()]\n",
    "print df_dropNA[df_dropNA['gpa'].isnull()]\n",
    "print df_dropNA[df_dropNA['prestige'].isnull()]\n",
    "\n",
    "## teacher ans: just do a df.count()"
   ]
  },
  {
   "cell_type": "markdown",
   "metadata": {},
   "source": [
    "### Question 6. Create box plots for GRE and GPA"
   ]
  },
  {
   "cell_type": "code",
   "execution_count": 7,
   "metadata": {
    "collapsed": false
   },
   "outputs": [
    {
     "data": {
      "image/png": "[encoded data removed]",
      "text/plain": [
       "<matplotlib.figure.Figure at 0xcaa4588>"
      ]
     },
     "metadata": {},
     "output_type": "display_data"
    }
   ],
   "source": [
    "plt.rcParams['figure.figsize']=(10,9)\n",
    "\n",
    "# boxplot 1\n",
    "# box plots for GRE\n",
    "plt.subplot(2,1,1)\n",
    "sns.boxplot(df_raw.gre, color='#2ecc71')\n",
    "\n",
    "#boxplot 2 \n",
    "# box plot for GPA\n",
    "plt.subplot(2,1,2)\n",
    "sns.boxplot(df_raw.gpa, color='#3498db')\n",
    "\n",
    "plt.tight_layout()\n",
    "plt.show()"
   ]
  },
  {
   "cell_type": "markdown",
   "metadata": {},
   "source": [
    "### Question 7. What do thess plots show?"
   ]
  },
  {
   "cell_type": "markdown",
   "metadata": {},
   "source": [
    "** Answer: ** \n",
    "+ Both are asymmetric.\n",
    "+ There are some outliers in GRE and GPA.\n",
    "+ In the GRE boxplot, the size of the box to the left of the median is shorter than the size to the right of the median, which means the students with lower GRE are closer together than the students with higher GRE.\n",
    "+ In the GPA boxplot, the size of two boxes that split by the medain are pretty much the same.\n",
    "\n",
    "** TEACHER ANS: max, min , median , 25%, 75%, MAX **"
   ]
  },
  {
   "cell_type": "markdown",
   "metadata": {},
   "source": [
    "### Question 8. Describe each distribution "
   ]
  },
  {
   "cell_type": "code",
   "execution_count": 8,
   "metadata": {
    "collapsed": false
   },
   "outputs": [
    {
     "data": {
      "image/png": "[encoded data removed]",
      "text/plain": [
       "<matplotlib.figure.Figure at 0xcaa4978>"
      ]
     },
     "metadata": {},
     "output_type": "display_data"
    },
    {
     "name": "stdout",
     "output_type": "stream",
     "text": [
      "Kurtosis:\n",
      "admit      -1.387513\n",
      "gre        -0.330065\n",
      "gpa        -0.574623\n",
      "prestige   -0.894759\n",
      "dtype: float64\n",
      "\n",
      "Skewness:\n",
      "admit       0.787051\n",
      "gre        -0.150127\n",
      "gpa        -0.211765\n",
      "prestige    0.093663\n",
      "dtype: float64\n"
     ]
    }
   ],
   "source": [
    "# plot the distribution of each variable \n",
    "df = df_raw.dropna()\n",
    "bins = 30\n",
    "plt.rcParams['figure.figsize']=(10,15)\n",
    "\n",
    "#GRE histogram\n",
    "plt.subplot(4,1,1)\n",
    "sns.distplot(df.gre,bins=bins,color='blue',kde=False)\n",
    "\n",
    "#GPA histogram\n",
    "plt.subplot(4,1,2)\n",
    "sns.distplot(df.gpa,bins=bins,color='green',kde=False)\n",
    "\n",
    "#Admit histogram\n",
    "plt.subplot(4,1,3)\n",
    "sns.distplot(df.admit,bins=bins,color='red',kde=False)\n",
    "\n",
    "#Prestige histogram\n",
    "plt.subplot(4,1,4)\n",
    "sns.distplot(df.prestige,bins=bins,color='#3498db',kde=False)\n",
    "\n",
    "plt.tight_layout()\n",
    "plt.show()\n",
    "\n",
    "print \"Kurtosis:\" \n",
    "print (df_raw.kurt())\n",
    "\n",
    "print \"\\nSkewness:\" \n",
    "print (df_raw.skew())"
   ]
  },
  {
   "cell_type": "markdown",
   "metadata": {},
   "source": [
    "**Answer : ** \n",
    "+ Distribution of GRE is skewed left.\n",
    "+ Distribution of GPA is skewed left and there is a clear peak at value 4.\n",
    "+ Admit only contain 2 values (0 and 1), observations with value 0 is more than 1\n",
    "+ Prestige contain 4 values (from 1-4), there are more students with prestige 2 than the other 3 prestige.\n",
    "\n",
    "** if normal distribution is from 1-100, in the above case, the range is just fomr 1-80, therefor those student from 80-100 are push to the end, so there are high number of student at the tail of the distribution. **"
   ]
  },
  {
   "cell_type": "markdown",
   "metadata": {},
   "source": [
    "### Question 9.  If our model had an assumption of a normal distribution would we meet that requirement? "
   ]
  },
  {
   "cell_type": "markdown",
   "metadata": {},
   "source": [
    "** Answer: **  \n",
    "That would not meet the requirement, as from the histograms above both GRE and GPA are left-skewed (negative skewness)\n",
    "\n",
    "**ans: GPA and GRE are skewed toward the upper ranges **"
   ]
  },
  {
   "cell_type": "markdown",
   "metadata": {},
   "source": [
    "### Question 10.  Does this distribution need correction? If so, why? How? "
   ]
  },
  {
   "cell_type": "markdown",
   "metadata": {},
   "source": [
    "** Answer: **     \n",
    "+ Yes, because its quit hard to see any pattern and its left-skewed.\n",
    "+ We could use log transformations to reduce skew.\n",
    "\n",
    "**ans: no need to correct anything, though slightly skewed**"
   ]
  },
  {
   "cell_type": "markdown",
   "metadata": {},
   "source": [
    "### Question 11. Which of our variables are potentially colinear? "
   ]
  },
  {
   "cell_type": "code",
   "execution_count": 9,
   "metadata": {
    "collapsed": false
   },
   "outputs": [
    {
     "name": "stdout",
     "output_type": "stream",
     "text": [
      "             admit       gre       gpa  prestige\n",
      "admit     1.000000  0.181202  0.174116 -0.243563\n",
      "gre       0.181202  1.000000  0.382408 -0.124533\n",
      "gpa       0.174116  0.382408  1.000000 -0.060976\n",
      "prestige -0.243563 -0.124533 -0.060976  1.000000\n"
     ]
    },
    {
     "data": {
      "text/plain": [
       "<matplotlib.axes._subplots.AxesSubplot at 0xd7a8358>"
      ]
     },
     "execution_count": 9,
     "metadata": {},
     "output_type": "execute_result"
    },
    {
     "data": {
      "image/png": "[encoded data removed]",
      "text/plain": [
       "<matplotlib.figure.Figure at 0xdc82320>"
      ]
     },
     "metadata": {},
     "output_type": "display_data"
    }
   ],
   "source": [
    "# create a correlation matrix for the data\n",
    "print df.corr()\n",
    "\n",
    "# visualize the matrix using heatmap\n",
    "plt.rcParams['figure.figsize']=(8,7)\n",
    "sns.heatmap(df.corr(), cmap=\"Blues_r\", annot=True)"
   ]
  },
  {
   "cell_type": "markdown",
   "metadata": {},
   "source": [
    "**Answer: **  \n",
    "Variables are potentially colinear:\n",
    "+ Admit and Prestige \n",
    "+ GRE and GPA\n"
   ]
  },
  {
   "cell_type": "markdown",
   "metadata": {},
   "source": [
    "### Question 12. What did you find?"
   ]
  },
  {
   "cell_type": "markdown",
   "metadata": {},
   "source": [
    "**Answer: **\n",
    "+ A weak negative relationship between admit and prestige \n",
    "+ A moderate positive relationship between gre and gpa \n",
    "\n",
    "** Colinearity is not a concern here. **"
   ]
  },
  {
   "cell_type": "markdown",
   "metadata": {},
   "source": [
    "### Question 13. Write an analysis plan for exploring the association between grad school admissions rates and prestige of  undergraduate schools."
   ]
  },
  {
   "cell_type": "markdown",
   "metadata": {},
   "source": [
    "**Answer: **  \n",
    "\n",
    "We can use some statistical models (e.g Logistic Regression) to estimate the associatione between grad school admissions rates and prestige of undergraduate schools.\n",
    "\n",
    "+ Interpreting Model Coefficients to check if there are postive or negative association\n",
    "+ Use hypothesis testing and p-value to decide whether there is a relationship \n",
    "\n",
    "** ans: **\n",
    "** DO a linear regression [admit = 1] ~ prestige -> should be negative **\n",
    "+ ** Do a crude analysis with the following model P(admit =1)  =  alpha + beta(prestige) **\n",
    "+ ** Repeat controlling for GRE and GPA **"
   ]
  },
  {
   "cell_type": "markdown",
   "metadata": {},
   "source": [
    "### Question 14. What is your hypothesis? "
   ]
  },
  {
   "cell_type": "markdown",
   "metadata": {},
   "source": [
    "** Answer: **\n",
    "+ ** null hypothesis **: There are no association between grad school admissions rates and prestige of undergraduate \n",
    "+ ** alternative hypothesis :** There is a association between grad school admissions rates and prestige of undergraduate \n",
    "\n",
    "** ans **  \n",
    "** students who attended a more prestigious undergraduate institution are more likely to be admitted to graduate school **"
   ]
  },
  {
   "cell_type": "markdown",
   "metadata": {},
   "source": [
    "## Bonus/Advanced"
   ]
  },
  {
   "cell_type": "markdown",
   "metadata": {},
   "source": [
    "#### 1. Bonus: Explore alternatives to dropping obervations with missing data"
   ]
  },
  {
   "cell_type": "markdown",
   "metadata": {},
   "source": [
    "** Answer: **\n",
    "+ We can just leave it.\n",
    "+ Fill missing data with mean or median.\n",
    "+ Fill forward or backward."
   ]
  },
  {
   "cell_type": "markdown",
   "metadata": {},
   "source": [
    "#### 2. Bonus: Log transform the skewed data"
   ]
  },
  {
   "cell_type": "code",
   "execution_count": 10,
   "metadata": {
    "collapsed": false
   },
   "outputs": [
    {
     "data": {
      "image/png": "[encoded data removed]",
      "text/plain": [
       "<matplotlib.figure.Figure at 0xe0a63c8>"
      ]
     },
     "metadata": {},
     "output_type": "display_data"
    }
   ],
   "source": [
    "df_log = df[['gre','gpa']].applymap(lambda x: np.log(x))\n",
    "df_log.columns = 'log_' + df_log.columns\n",
    "bins = 30\n",
    "kde =False\n",
    "plt.rcParams['figure.figsize']=(10,8)\n",
    "\n",
    "# Compare before and after log transform\n",
    "plt.subplot(2,2,1)\n",
    "sns.distplot(df_log.log_gre,bins=bins,color='blue',kde=kde)\n",
    "\n",
    "plt.subplot(2,2,2)\n",
    "sns.distplot(df.gre,bins=bins,color='blue',kde=kde)\n",
    "\n",
    "plt.subplot(2,2,3)\n",
    "sns.distplot(df_log.log_gpa,bins=bins,color='green',kde=kde)\n",
    "\n",
    "plt.subplot(2,2,4)\n",
    "sns.distplot(df.gpa,bins=bins,color='green',kde=kde)\n",
    "\n",
    "plt.tight_layout()\n",
    "plt.show()"
   ]
  },
  {
   "cell_type": "markdown",
   "metadata": {},
   "source": [
    "#### 3. Advanced: Impute missing data"
   ]
  },
  {
   "cell_type": "code",
   "execution_count": 11,
   "metadata": {
    "collapsed": false
   },
   "outputs": [
    {
     "name": "stdout",
     "output_type": "stream",
     "text": [
      "Before:\n",
      "admit       400\n",
      "gre         398\n",
      "gpa         398\n",
      "prestige    399\n",
      "dtype: int64\n",
      "\n",
      "After:\n",
      "admit       400\n",
      "gre         400\n",
      "gpa         400\n",
      "prestige    400\n",
      "dtype: int64\n"
     ]
    }
   ],
   "source": [
    "df_fillnaMean = df_raw.copy()\n",
    "df_fillnaMean['gre'] = df_fillnaMean['gre'].fillna(df_raw['gre'].mean())\n",
    "df_fillnaMean['gpa'] = df_fillnaMean['gpa'].fillna(df_raw['gpa'].mean())\n",
    "df_fillnaMean['prestige'] = df_fillnaMean['prestige'].fillna(df_raw['prestige'].mean())\n",
    "\n",
    "print 'Before:'\n",
    "print df_raw.count()\n",
    "print '\\nAfter:'\n",
    "print df_fillnaMean.count()"
   ]
  }
 ],
 "metadata": {
  "kernelspec": {
   "display_name": "Python 2",
   "language": "python",
   "name": "python2"
  },
  "language_info": {
   "codemirror_mode": {
    "name": "ipython",
    "version": 2
   },
   "file_extension": ".py",
   "mimetype": "text/x-python",
   "name": "python",
   "nbconvert_exporter": "python",
   "pygments_lexer": "ipython2",
   "version": "2.7.13"
  }
 },
 "nbformat": 4,
 "nbformat_minor": 0
}
